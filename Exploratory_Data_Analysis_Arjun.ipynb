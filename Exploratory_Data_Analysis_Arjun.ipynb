{
  "nbformat": 4,
  "nbformat_minor": 0,
  "metadata": {
    "kernelspec": {
      "display_name": "Python 3",
      "language": "python",
      "name": "python3"
    },
    "language_info": {
      "codemirror_mode": {
        "name": "ipython",
        "version": 3
      },
      "file_extension": ".py",
      "mimetype": "text/x-python",
      "name": "python",
      "nbconvert_exporter": "python",
      "pygments_lexer": "ipython3",
      "version": "3.7.4"
    },
    "colab": {
      "name": "Exploratory Data Analysis_Arjun.ipynb",
      "provenance": [],
      "include_colab_link": true
    }
  },
  "cells": [
    {
      "cell_type": "markdown",
      "metadata": {
        "id": "view-in-github",
        "colab_type": "text"
      },
      "source": [
        "<a href=\"https://colab.research.google.com/github/arjredy/Mini-Proj/blob/main/Exploratory_Data_Analysis_Arjun.ipynb\" target=\"_parent\"><img src=\"https://colab.research.google.com/assets/colab-badge.svg\" alt=\"Open In Colab\"/></a>"
      ]
    },
    {
      "cell_type": "markdown",
      "metadata": {
        "id": "dfxF2leO9cVS"
      },
      "source": [
        "#**Exploratory Data Analysis**\n",
        "\n",
        "### Proving hypothesis using Jupyter and Python3\n",
        "\n",
        "Data set Name- international-visitors-london-raw\n",
        "\n",
        "It has 11 columns and 58977 rows\n",
        "\n",
        "I got this dataset from the London Datastore website. I came across this site at the time when I was searching for the data sets which you have mentioned in the project data set links.\n",
        "\n",
        "Link - https://data.london.gov.uk/dataset/number-international-visitors-london\n",
        "\n",
        "The name of the data set on the link is international-visitors-london-raw.\n",
        "\n",
        "Size of the data set - 4.99MB\n",
        "\n",
        "The data is free to download at no cost. And the data is legal to access\n"
      ]
    },
    {
      "cell_type": "markdown",
      "metadata": {
        "id": "9HP9_Doj9cVV"
      },
      "source": [
        "### Importing necessary libraries\n",
        "Using pandas for reading the dataset.\n",
        "Numpy is used to process multidimensional arrays.\n",
        "And rest all the libraries are used for data visualization."
      ]
    },
    {
      "cell_type": "code",
      "metadata": {
        "id": "oahCJHr49cVW",
        "outputId": "8d613b91-1f8d-47b7-ae7e-e1f08687772f",
        "colab": {
          "base_uri": "https://localhost:8080/",
          "height": 37
        }
      },
      "source": [
        "import pandas\n",
        "import numpy as np\n",
        "pandas.__version__"
      ],
      "execution_count": 1,
      "outputs": [
        {
          "output_type": "execute_result",
          "data": {
            "application/vnd.google.colaboratory.intrinsic+json": {
              "type": "string"
            },
            "text/plain": [
              "'1.1.4'"
            ]
          },
          "metadata": {
            "tags": []
          },
          "execution_count": 1
        }
      ]
    },
    {
      "cell_type": "code",
      "metadata": {
        "id": "JfZvDntK9cVc",
        "outputId": "8b5a09a1-03b8-4a36-f16e-f9abf872876d",
        "colab": {
          "base_uri": "https://localhost:8080/",
          "height": 37
        }
      },
      "source": [
        "import matplotlib\n",
        "import matplotlib.pyplot as plt\n",
        "import seaborn as sns\n",
        "matplotlib.__version__"
      ],
      "execution_count": 2,
      "outputs": [
        {
          "output_type": "execute_result",
          "data": {
            "application/vnd.google.colaboratory.intrinsic+json": {
              "type": "string"
            },
            "text/plain": [
              "'3.2.2'"
            ]
          },
          "metadata": {
            "tags": []
          },
          "execution_count": 2
        }
      ]
    },
    {
      "cell_type": "markdown",
      "metadata": {
        "id": "3aQNCOd-9cVg"
      },
      "source": [
        "### Reading the CSV using pandas, dframe is created for the csv and displaying the first 10 rows present in the dataset."
      ]
    },
    {
      "cell_type": "code",
      "metadata": {
        "id": "hS1m7BSj9cVg",
        "outputId": "ab45158b-e89e-41cd-d736-56512ef74f08",
        "colab": {
          "base_uri": "https://localhost:8080/",
          "height": 359
        }
      },
      "source": [
        "dframe = pandas.read_csv(\"international-visitors-london-raw.csv\")\n",
        "dframe.head(10)"
      ],
      "execution_count": 3,
      "outputs": [
        {
          "output_type": "execute_result",
          "data": {
            "text/html": [
              "<div>\n",
              "<style scoped>\n",
              "    .dataframe tbody tr th:only-of-type {\n",
              "        vertical-align: middle;\n",
              "    }\n",
              "\n",
              "    .dataframe tbody tr th {\n",
              "        vertical-align: top;\n",
              "    }\n",
              "\n",
              "    .dataframe thead th {\n",
              "        text-align: right;\n",
              "    }\n",
              "</style>\n",
              "<table border=\"1\" class=\"dataframe\">\n",
              "  <thead>\n",
              "    <tr style=\"text-align: right;\">\n",
              "      <th></th>\n",
              "      <th>year</th>\n",
              "      <th>quarter</th>\n",
              "      <th>market</th>\n",
              "      <th>dur_stay</th>\n",
              "      <th>mode</th>\n",
              "      <th>purpose</th>\n",
              "      <th>area</th>\n",
              "      <th>visits</th>\n",
              "      <th>spend</th>\n",
              "      <th>nights</th>\n",
              "      <th>sample</th>\n",
              "    </tr>\n",
              "  </thead>\n",
              "  <tbody>\n",
              "    <tr>\n",
              "      <th>0</th>\n",
              "      <td>2002</td>\n",
              "      <td>Q1</td>\n",
              "      <td>Belgium</td>\n",
              "      <td>1-3  nights</td>\n",
              "      <td>Air</td>\n",
              "      <td>Holiday</td>\n",
              "      <td>LONDON</td>\n",
              "      <td>3.572186</td>\n",
              "      <td>0.969138</td>\n",
              "      <td>6.954456</td>\n",
              "      <td>5</td>\n",
              "    </tr>\n",
              "    <tr>\n",
              "      <th>1</th>\n",
              "      <td>2002</td>\n",
              "      <td>Q1</td>\n",
              "      <td>Belgium</td>\n",
              "      <td>1-3  nights</td>\n",
              "      <td>Air</td>\n",
              "      <td>Business</td>\n",
              "      <td>LONDON</td>\n",
              "      <td>9.284226</td>\n",
              "      <td>2.399577</td>\n",
              "      <td>12.604959</td>\n",
              "      <td>19</td>\n",
              "    </tr>\n",
              "    <tr>\n",
              "      <th>2</th>\n",
              "      <td>2002</td>\n",
              "      <td>Q1</td>\n",
              "      <td>Belgium</td>\n",
              "      <td>1-3  nights</td>\n",
              "      <td>Air</td>\n",
              "      <td>VFR</td>\n",
              "      <td>LONDON</td>\n",
              "      <td>0.877182</td>\n",
              "      <td>0.089833</td>\n",
              "      <td>2.153128</td>\n",
              "      <td>3</td>\n",
              "    </tr>\n",
              "    <tr>\n",
              "      <th>3</th>\n",
              "      <td>2002</td>\n",
              "      <td>Q1</td>\n",
              "      <td>Belgium</td>\n",
              "      <td>1-3  nights</td>\n",
              "      <td>Air</td>\n",
              "      <td>Miscellaneous</td>\n",
              "      <td>LONDON</td>\n",
              "      <td>0.163874</td>\n",
              "      <td>0.010160</td>\n",
              "      <td>0.163874</td>\n",
              "      <td>1</td>\n",
              "    </tr>\n",
              "    <tr>\n",
              "      <th>4</th>\n",
              "      <td>2002</td>\n",
              "      <td>Q1</td>\n",
              "      <td>Belgium</td>\n",
              "      <td>1-3  nights</td>\n",
              "      <td>Sea</td>\n",
              "      <td>Business</td>\n",
              "      <td>LONDON</td>\n",
              "      <td>1.648670</td>\n",
              "      <td>0.016789</td>\n",
              "      <td>1.650300</td>\n",
              "      <td>1</td>\n",
              "    </tr>\n",
              "    <tr>\n",
              "      <th>5</th>\n",
              "      <td>2002</td>\n",
              "      <td>Q1</td>\n",
              "      <td>Belgium</td>\n",
              "      <td>1-3  nights</td>\n",
              "      <td>Sea</td>\n",
              "      <td>Miscellaneous</td>\n",
              "      <td>LONDON</td>\n",
              "      <td>0.590807</td>\n",
              "      <td>0.003953</td>\n",
              "      <td>1.772420</td>\n",
              "      <td>1</td>\n",
              "    </tr>\n",
              "    <tr>\n",
              "      <th>6</th>\n",
              "      <td>2002</td>\n",
              "      <td>Q1</td>\n",
              "      <td>Belgium</td>\n",
              "      <td>1-3  nights</td>\n",
              "      <td>Tunnel</td>\n",
              "      <td>Holiday</td>\n",
              "      <td>LONDON</td>\n",
              "      <td>10.940251</td>\n",
              "      <td>2.765473</td>\n",
              "      <td>23.242688</td>\n",
              "      <td>30</td>\n",
              "    </tr>\n",
              "    <tr>\n",
              "      <th>7</th>\n",
              "      <td>2002</td>\n",
              "      <td>Q1</td>\n",
              "      <td>Belgium</td>\n",
              "      <td>1-3  nights</td>\n",
              "      <td>Tunnel</td>\n",
              "      <td>Business</td>\n",
              "      <td>LONDON</td>\n",
              "      <td>6.052632</td>\n",
              "      <td>1.446697</td>\n",
              "      <td>10.428555</td>\n",
              "      <td>16</td>\n",
              "    </tr>\n",
              "    <tr>\n",
              "      <th>8</th>\n",
              "      <td>2002</td>\n",
              "      <td>Q1</td>\n",
              "      <td>Belgium</td>\n",
              "      <td>1-3  nights</td>\n",
              "      <td>Tunnel</td>\n",
              "      <td>VFR</td>\n",
              "      <td>LONDON</td>\n",
              "      <td>5.559403</td>\n",
              "      <td>0.468140</td>\n",
              "      <td>9.441416</td>\n",
              "      <td>13</td>\n",
              "    </tr>\n",
              "    <tr>\n",
              "      <th>9</th>\n",
              "      <td>2002</td>\n",
              "      <td>Q1</td>\n",
              "      <td>Belgium</td>\n",
              "      <td>1-3  nights</td>\n",
              "      <td>Tunnel</td>\n",
              "      <td>Miscellaneous</td>\n",
              "      <td>LONDON</td>\n",
              "      <td>0.704948</td>\n",
              "      <td>0.465721</td>\n",
              "      <td>1.409894</td>\n",
              "      <td>2</td>\n",
              "    </tr>\n",
              "  </tbody>\n",
              "</table>\n",
              "</div>"
            ],
            "text/plain": [
              "   year quarter   market     dur_stay  ...     visits     spend     nights  sample\n",
              "0  2002      Q1  Belgium  1-3  nights  ...   3.572186  0.969138   6.954456       5\n",
              "1  2002      Q1  Belgium  1-3  nights  ...   9.284226  2.399577  12.604959      19\n",
              "2  2002      Q1  Belgium  1-3  nights  ...   0.877182  0.089833   2.153128       3\n",
              "3  2002      Q1  Belgium  1-3  nights  ...   0.163874  0.010160   0.163874       1\n",
              "4  2002      Q1  Belgium  1-3  nights  ...   1.648670  0.016789   1.650300       1\n",
              "5  2002      Q1  Belgium  1-3  nights  ...   0.590807  0.003953   1.772420       1\n",
              "6  2002      Q1  Belgium  1-3  nights  ...  10.940251  2.765473  23.242688      30\n",
              "7  2002      Q1  Belgium  1-3  nights  ...   6.052632  1.446697  10.428555      16\n",
              "8  2002      Q1  Belgium  1-3  nights  ...   5.559403  0.468140   9.441416      13\n",
              "9  2002      Q1  Belgium  1-3  nights  ...   0.704948  0.465721   1.409894       2\n",
              "\n",
              "[10 rows x 11 columns]"
            ]
          },
          "metadata": {
            "tags": []
          },
          "execution_count": 3
        }
      ]
    },
    {
      "cell_type": "markdown",
      "metadata": {
        "id": "lCVZlxmn9cVk"
      },
      "source": [
        "### Displaying the last 10 rows of the dataset."
      ]
    },
    {
      "cell_type": "code",
      "metadata": {
        "id": "psyksoAc9cVk",
        "outputId": "bc0c193b-7663-4df8-83c5-a341f8476d50",
        "colab": {
          "base_uri": "https://localhost:8080/",
          "height": 359
        }
      },
      "source": [
        "dframe.tail(10)"
      ],
      "execution_count": 4,
      "outputs": [
        {
          "output_type": "execute_result",
          "data": {
            "text/html": [
              "<div>\n",
              "<style scoped>\n",
              "    .dataframe tbody tr th:only-of-type {\n",
              "        vertical-align: middle;\n",
              "    }\n",
              "\n",
              "    .dataframe tbody tr th {\n",
              "        vertical-align: top;\n",
              "    }\n",
              "\n",
              "    .dataframe thead th {\n",
              "        text-align: right;\n",
              "    }\n",
              "</style>\n",
              "<table border=\"1\" class=\"dataframe\">\n",
              "  <thead>\n",
              "    <tr style=\"text-align: right;\">\n",
              "      <th></th>\n",
              "      <th>year</th>\n",
              "      <th>quarter</th>\n",
              "      <th>market</th>\n",
              "      <th>dur_stay</th>\n",
              "      <th>mode</th>\n",
              "      <th>purpose</th>\n",
              "      <th>area</th>\n",
              "      <th>visits</th>\n",
              "      <th>spend</th>\n",
              "      <th>nights</th>\n",
              "      <th>sample</th>\n",
              "    </tr>\n",
              "  </thead>\n",
              "  <tbody>\n",
              "    <tr>\n",
              "      <th>58966</th>\n",
              "      <td>2019</td>\n",
              "      <td>Q2</td>\n",
              "      <td>Other Africa</td>\n",
              "      <td>1-3  nights</td>\n",
              "      <td>Air</td>\n",
              "      <td>VFR</td>\n",
              "      <td>LONDON</td>\n",
              "      <td>1.363183</td>\n",
              "      <td>1.436325</td>\n",
              "      <td>13.832674</td>\n",
              "      <td>1</td>\n",
              "    </tr>\n",
              "    <tr>\n",
              "      <th>58967</th>\n",
              "      <td>2019</td>\n",
              "      <td>Q2</td>\n",
              "      <td>Other Africa</td>\n",
              "      <td>1-3  nights</td>\n",
              "      <td>Air</td>\n",
              "      <td>Miscellaneous</td>\n",
              "      <td>LONDON</td>\n",
              "      <td>0.389465</td>\n",
              "      <td>0.005842</td>\n",
              "      <td>0.389465</td>\n",
              "      <td>1</td>\n",
              "    </tr>\n",
              "    <tr>\n",
              "      <th>58968</th>\n",
              "      <td>2019</td>\n",
              "      <td>Q2</td>\n",
              "      <td>Other Africa</td>\n",
              "      <td>4-7  nights</td>\n",
              "      <td>Air</td>\n",
              "      <td>Holiday</td>\n",
              "      <td>LONDON</td>\n",
              "      <td>1.472746</td>\n",
              "      <td>0.844716</td>\n",
              "      <td>5.838681</td>\n",
              "      <td>2</td>\n",
              "    </tr>\n",
              "    <tr>\n",
              "      <th>58969</th>\n",
              "      <td>2019</td>\n",
              "      <td>Q2</td>\n",
              "      <td>Other Africa</td>\n",
              "      <td>4-7  nights</td>\n",
              "      <td>Air</td>\n",
              "      <td>Business</td>\n",
              "      <td>LONDON</td>\n",
              "      <td>1.328856</td>\n",
              "      <td>0.352659</td>\n",
              "      <td>7.208323</td>\n",
              "      <td>2</td>\n",
              "    </tr>\n",
              "    <tr>\n",
              "      <th>58970</th>\n",
              "      <td>2019</td>\n",
              "      <td>Q2</td>\n",
              "      <td>Other Africa</td>\n",
              "      <td>4-7  nights</td>\n",
              "      <td>Air</td>\n",
              "      <td>VFR</td>\n",
              "      <td>LONDON</td>\n",
              "      <td>1.294282</td>\n",
              "      <td>1.523618</td>\n",
              "      <td>6.471410</td>\n",
              "      <td>2</td>\n",
              "    </tr>\n",
              "    <tr>\n",
              "      <th>58971</th>\n",
              "      <td>2019</td>\n",
              "      <td>Q2</td>\n",
              "      <td>Other Africa</td>\n",
              "      <td>8-14 nights</td>\n",
              "      <td>Air</td>\n",
              "      <td>Holiday</td>\n",
              "      <td>LONDON</td>\n",
              "      <td>0.324552</td>\n",
              "      <td>0.167144</td>\n",
              "      <td>2.596416</td>\n",
              "      <td>1</td>\n",
              "    </tr>\n",
              "    <tr>\n",
              "      <th>58972</th>\n",
              "      <td>2019</td>\n",
              "      <td>Q2</td>\n",
              "      <td>Other Africa</td>\n",
              "      <td>8-14 nights</td>\n",
              "      <td>Air</td>\n",
              "      <td>Business</td>\n",
              "      <td>LONDON</td>\n",
              "      <td>0.599187</td>\n",
              "      <td>0.608175</td>\n",
              "      <td>5.991870</td>\n",
              "      <td>1</td>\n",
              "    </tr>\n",
              "    <tr>\n",
              "      <th>58973</th>\n",
              "      <td>2019</td>\n",
              "      <td>Q2</td>\n",
              "      <td>Other Africa</td>\n",
              "      <td>8-14 nights</td>\n",
              "      <td>Air</td>\n",
              "      <td>VFR</td>\n",
              "      <td>LONDON</td>\n",
              "      <td>1.676268</td>\n",
              "      <td>6.939305</td>\n",
              "      <td>15.335942</td>\n",
              "      <td>4</td>\n",
              "    </tr>\n",
              "    <tr>\n",
              "      <th>58974</th>\n",
              "      <td>2019</td>\n",
              "      <td>Q2</td>\n",
              "      <td>Other Africa</td>\n",
              "      <td>8-14 nights</td>\n",
              "      <td>Air</td>\n",
              "      <td>Study</td>\n",
              "      <td>LONDON</td>\n",
              "      <td>1.357228</td>\n",
              "      <td>20.785946</td>\n",
              "      <td>14.929508</td>\n",
              "      <td>1</td>\n",
              "    </tr>\n",
              "    <tr>\n",
              "      <th>58975</th>\n",
              "      <td>2019</td>\n",
              "      <td>Q2</td>\n",
              "      <td>Other Africa</td>\n",
              "      <td>15+  nights</td>\n",
              "      <td>Air</td>\n",
              "      <td>Miscellaneous</td>\n",
              "      <td>LONDON</td>\n",
              "      <td>0.554770</td>\n",
              "      <td>1.471449</td>\n",
              "      <td>50.795570</td>\n",
              "      <td>1</td>\n",
              "    </tr>\n",
              "  </tbody>\n",
              "</table>\n",
              "</div>"
            ],
            "text/plain": [
              "       year quarter        market  ...      spend     nights sample\n",
              "58966  2019      Q2  Other Africa  ...   1.436325  13.832674      1\n",
              "58967  2019      Q2  Other Africa  ...   0.005842   0.389465      1\n",
              "58968  2019      Q2  Other Africa  ...   0.844716   5.838681      2\n",
              "58969  2019      Q2  Other Africa  ...   0.352659   7.208323      2\n",
              "58970  2019      Q2  Other Africa  ...   1.523618   6.471410      2\n",
              "58971  2019      Q2  Other Africa  ...   0.167144   2.596416      1\n",
              "58972  2019      Q2  Other Africa  ...   0.608175   5.991870      1\n",
              "58973  2019      Q2  Other Africa  ...   6.939305  15.335942      4\n",
              "58974  2019      Q2  Other Africa  ...  20.785946  14.929508      1\n",
              "58975  2019      Q2  Other Africa  ...   1.471449  50.795570      1\n",
              "\n",
              "[10 rows x 11 columns]"
            ]
          },
          "metadata": {
            "tags": []
          },
          "execution_count": 4
        }
      ]
    },
    {
      "cell_type": "markdown",
      "metadata": {
        "id": "377jzReC9cVn"
      },
      "source": [
        "### Displaying the column names present in the CSV"
      ]
    },
    {
      "cell_type": "code",
      "metadata": {
        "id": "7J2sH-S59cVo",
        "outputId": "d84ce080-ff63-43da-841e-f0e477b60ba9",
        "colab": {
          "base_uri": "https://localhost:8080/"
        }
      },
      "source": [
        "dframe.columns"
      ],
      "execution_count": 5,
      "outputs": [
        {
          "output_type": "execute_result",
          "data": {
            "text/plain": [
              "Index(['year', 'quarter', 'market', 'dur_stay', 'mode', 'purpose', 'area',\n",
              "       'visits', 'spend', 'nights', 'sample'],\n",
              "      dtype='object')"
            ]
          },
          "metadata": {
            "tags": []
          },
          "execution_count": 5
        }
      ]
    },
    {
      "cell_type": "markdown",
      "metadata": {
        "id": "Z4hrzt0a9cVr"
      },
      "source": [
        "### Displaying the datatypes of the columns in the CSV"
      ]
    },
    {
      "cell_type": "code",
      "metadata": {
        "id": "ik5auQyI9cVr",
        "outputId": "c4475f33-3d46-46ba-de0e-c326c759e0a9",
        "colab": {
          "base_uri": "https://localhost:8080/"
        }
      },
      "source": [
        "dframe.dtypes"
      ],
      "execution_count": 6,
      "outputs": [
        {
          "output_type": "execute_result",
          "data": {
            "text/plain": [
              "year          int64\n",
              "quarter      object\n",
              "market       object\n",
              "dur_stay     object\n",
              "mode         object\n",
              "purpose      object\n",
              "area         object\n",
              "visits      float64\n",
              "spend       float64\n",
              "nights      float64\n",
              "sample        int64\n",
              "dtype: object"
            ]
          },
          "metadata": {
            "tags": []
          },
          "execution_count": 6
        }
      ]
    },
    {
      "cell_type": "markdown",
      "metadata": {
        "id": "g3CHrbkH9cVu"
      },
      "source": [
        "### Checking the shape of CSV i.e number of rows and columns present in dframe."
      ]
    },
    {
      "cell_type": "code",
      "metadata": {
        "id": "QhKbIp4b9cVv",
        "outputId": "dc9bb142-ca14-4cc1-ac94-33f3b6e999c6",
        "colab": {
          "base_uri": "https://localhost:8080/"
        }
      },
      "source": [
        "dframe.shape"
      ],
      "execution_count": 7,
      "outputs": [
        {
          "output_type": "execute_result",
          "data": {
            "text/plain": [
              "(58976, 11)"
            ]
          },
          "metadata": {
            "tags": []
          },
          "execution_count": 7
        }
      ]
    },
    {
      "cell_type": "markdown",
      "metadata": {
        "id": "dBl_n_a59cVy"
      },
      "source": [
        "### Checking the null values in the dframe"
      ]
    },
    {
      "cell_type": "code",
      "metadata": {
        "id": "PE4pxKrT9cVy",
        "outputId": "691f609b-555b-4b97-b510-b98e266048cd",
        "colab": {
          "base_uri": "https://localhost:8080/"
        }
      },
      "source": [
        "dframe.isna().sum()"
      ],
      "execution_count": 8,
      "outputs": [
        {
          "output_type": "execute_result",
          "data": {
            "text/plain": [
              "year        0\n",
              "quarter     0\n",
              "market      0\n",
              "dur_stay    0\n",
              "mode        0\n",
              "purpose     0\n",
              "area        0\n",
              "visits      0\n",
              "spend       0\n",
              "nights      0\n",
              "sample      0\n",
              "dtype: int64"
            ]
          },
          "metadata": {
            "tags": []
          },
          "execution_count": 8
        }
      ]
    },
    {
      "cell_type": "markdown",
      "metadata": {
        "id": "rkEojKbz9cV1"
      },
      "source": [
        "## Checking unique values present in the columns"
      ]
    },
    {
      "cell_type": "code",
      "metadata": {
        "id": "UM7OR4VK9cV1",
        "outputId": "cd084515-1295-42b4-b52f-e79d6593779a",
        "colab": {
          "base_uri": "https://localhost:8080/"
        }
      },
      "source": [
        "print(dframe[\"year\"].unique())"
      ],
      "execution_count": 9,
      "outputs": [
        {
          "output_type": "stream",
          "text": [
            "[2002 2003 2004 2005 2006 2007 2008 2009 2010 2011 2012 2013 2014 2015\n",
            " 2016 2017 2018 2019]\n"
          ],
          "name": "stdout"
        }
      ]
    },
    {
      "cell_type": "code",
      "metadata": {
        "id": "08bN8JAr9cV3",
        "outputId": "31671ef2-19cd-400d-9966-6c7398428edc",
        "colab": {
          "base_uri": "https://localhost:8080/"
        }
      },
      "source": [
        "print(dframe[\"quarter\"].unique())"
      ],
      "execution_count": 10,
      "outputs": [
        {
          "output_type": "stream",
          "text": [
            "['Q1' 'Q2' 'Q3' 'Q4']\n"
          ],
          "name": "stdout"
        }
      ]
    },
    {
      "cell_type": "code",
      "metadata": {
        "id": "lExf7nc79cV5",
        "outputId": "a18a74b9-ea69-441c-ac65-30648fba8f20",
        "colab": {
          "base_uri": "https://localhost:8080/"
        }
      },
      "source": [
        "print(dframe[\"market\"].unique())"
      ],
      "execution_count": 11,
      "outputs": [
        {
          "output_type": "stream",
          "text": [
            "['Belgium' 'Luxembourg' 'France' 'Germany' 'Italy' 'Netherlands' 'Denmark'\n",
            " 'Greece' 'Spain' 'Portugal' 'Austria' 'Sweden' 'Finland' 'Irish Republic'\n",
            " 'Turkey' 'Switzerland' 'Norway' 'Iceland' 'Czech Republic' 'Poland'\n",
            " 'Hungary' 'Russia' 'Other Western Europe' 'Other Eastern Europe' 'USA'\n",
            " 'Canada' 'Mexico' 'Brazil' 'Argentina' 'Other Central & South America'\n",
            " 'Hong Kong' 'Malaysia' 'Thailand' 'Singapore' 'Taiwan' 'China'\n",
            " 'Other Asia' 'Japan' 'South Korea' 'Australia' 'New Zealand'\n",
            " 'United Arab Emirates' 'Saudi Arabia' 'Kuwait' 'Other Middle East'\n",
            " 'Egypt' 'Israel' 'India' 'Pakistan' 'South Africa'\n",
            " 'Other Southern Africa' 'Nigeria' 'Kenya' 'Other Africa' 'Bulgaria'\n",
            " 'Romania' 'Serbia' 'Chile' 'Indonesia' 'Bahrain' 'Oman' 'Qatar'\n",
            " 'Other Areas / Unknown']\n"
          ],
          "name": "stdout"
        }
      ]
    },
    {
      "cell_type": "code",
      "metadata": {
        "id": "QG8jfKOJ9cV7",
        "outputId": "5422ac8f-0888-4fb4-919d-c650843ee85d",
        "colab": {
          "base_uri": "https://localhost:8080/"
        }
      },
      "source": [
        "print(dframe[\"dur_stay\"].unique())"
      ],
      "execution_count": 12,
      "outputs": [
        {
          "output_type": "stream",
          "text": [
            "['1-3  nights' '4-7  nights' '8-14 nights' '15+  nights']\n"
          ],
          "name": "stdout"
        }
      ]
    },
    {
      "cell_type": "code",
      "metadata": {
        "id": "U81zjVy99cV9",
        "outputId": "88da04c7-5973-452c-87be-af62beea8893",
        "colab": {
          "base_uri": "https://localhost:8080/"
        }
      },
      "source": [
        "print(dframe[\"mode\"].unique())"
      ],
      "execution_count": 13,
      "outputs": [
        {
          "output_type": "stream",
          "text": [
            "['Air' 'Sea' 'Tunnel']\n"
          ],
          "name": "stdout"
        }
      ]
    },
    {
      "cell_type": "code",
      "metadata": {
        "id": "J8fDdZrE9cV-",
        "outputId": "0bbf1bfe-f576-422c-bc97-ba7d8ab85cd2",
        "colab": {
          "base_uri": "https://localhost:8080/"
        }
      },
      "source": [
        "print(dframe[\"purpose\"].unique())"
      ],
      "execution_count": 14,
      "outputs": [
        {
          "output_type": "stream",
          "text": [
            "['Holiday' 'Business' 'VFR' 'Miscellaneous' 'Study']\n"
          ],
          "name": "stdout"
        }
      ]
    },
    {
      "cell_type": "code",
      "metadata": {
        "id": "1uIL8UA19cWA",
        "outputId": "0a93701d-4fc9-4e0f-e856-13db27841036",
        "colab": {
          "base_uri": "https://localhost:8080/"
        }
      },
      "source": [
        "print(dframe[\"area\"].unique())"
      ],
      "execution_count": 15,
      "outputs": [
        {
          "output_type": "stream",
          "text": [
            "[' LONDON']\n"
          ],
          "name": "stdout"
        }
      ]
    },
    {
      "cell_type": "markdown",
      "metadata": {
        "id": "s-SVzCf_9cWB"
      },
      "source": [
        "# Hypothesis"
      ]
    },
    {
      "cell_type": "markdown",
      "metadata": {
        "id": "_xyElnNj9cWC"
      },
      "source": [
        "###**Hypothesis 1**\n",
        "####Which market visited London more?"
      ]
    },
    {
      "cell_type": "code",
      "metadata": {
        "id": "hrJgnWnp9cWC",
        "outputId": "46478860-be53-4f13-9f08-bd438ee812e8",
        "colab": {
          "base_uri": "https://localhost:8080/"
        }
      },
      "source": [
        "dframe['total'] = 0\n",
        "df1=dframe.groupby('market')['total'].count()\n",
        "print(\"\",df1)"
      ],
      "execution_count": 16,
      "outputs": [
        {
          "output_type": "stream",
          "text": [
            " market\n",
            "Argentina                628\n",
            "Australia               1871\n",
            "Austria                  828\n",
            "Bahrain                  187\n",
            "Belgium                 1432\n",
            "                        ... \n",
            "Taiwan                   518\n",
            "Thailand                 646\n",
            "Turkey                   815\n",
            "USA                     2409\n",
            "United Arab Emirates    1064\n",
            "Name: total, Length: 63, dtype: int64\n"
          ],
          "name": "stdout"
        }
      ]
    },
    {
      "cell_type": "code",
      "metadata": {
        "id": "NFo2Eg1H9cWD",
        "outputId": "efaa68eb-f6c8-4f74-9994-d6aef369654b",
        "colab": {
          "base_uri": "https://localhost:8080/",
          "height": 424
        }
      },
      "source": [
        "df1.plot(kind='bar', figsize=(15,4))\n",
        "plt.xlabel('Market')\n",
        "plt.ylabel('Count')\n",
        "plt.show()"
      ],
      "execution_count": 17,
      "outputs": [
        {
          "output_type": "display_data",
          "data": {
            "image/png": "[encoded data removed]",
            "text/plain": [
              "<Figure size 1080x288 with 1 Axes>"
            ]
          },
          "metadata": {
            "tags": [],
            "needs_background": "light"
          }
        }
      ]
    },
    {
      "cell_type": "markdown",
      "metadata": {
        "id": "vHZTUHPm9cWF"
      },
      "source": [
        "####**Observation -  Based on the analysis**\n",
        "#### The market of France has visited London more as compared to other markets."
      ]
    },
    {
      "cell_type": "markdown",
      "metadata": {
        "id": "qqHEDIAA9cWF"
      },
      "source": [
        "###**Hypothesis 2**\n",
        "\n",
        "###### Visitors tend to stay longer if travel by air?"
      ]
    },
    {
      "cell_type": "code",
      "metadata": {
        "id": "GTkJmAqr9cWF",
        "outputId": "b159f46f-216f-41a7-adc1-7e6e50947e50",
        "colab": {
          "base_uri": "https://localhost:8080/"
        }
      },
      "source": [
        "dframe['total'] = 0\n",
        "df2=dframe.groupby('mode')['total'].count()\n",
        "print(\"\",df2)\n",
        "dframe = dframe.drop(columns=\"total\")"
      ],
      "execution_count": 18,
      "outputs": [
        {
          "output_type": "stream",
          "text": [
            " mode\n",
            "Air       44766\n",
            "Sea        5817\n",
            "Tunnel     8393\n",
            "Name: total, dtype: int64\n"
          ],
          "name": "stdout"
        }
      ]
    },
    {
      "cell_type": "code",
      "metadata": {
        "id": "fPAeIFyM9cWH",
        "outputId": "e4b32c79-038c-4082-e337-e2f927a9c40c",
        "colab": {
          "base_uri": "https://localhost:8080/"
        }
      },
      "source": [
        "temp = dframe[['mode','visits','spend','nights']]\n",
        "aggr = temp.groupby(['mode']).agg(np.mean)\n",
        "print(aggr)"
      ],
      "execution_count": 19,
      "outputs": [
        {
          "output_type": "stream",
          "text": [
            "          visits     spend     nights\n",
            "mode                                 \n",
            "Air     4.865952  3.219623  31.327341\n",
            "Sea     3.529996  0.959162  18.551163\n",
            "Tunnel  4.478816  1.742460  20.191838\n"
          ],
          "name": "stdout"
        }
      ]
    },
    {
      "cell_type": "code",
      "metadata": {
        "id": "sODl8CNy9cWI",
        "outputId": "4265dcf7-2442-4cd4-f7ee-7cf08ea8b6bd",
        "colab": {
          "base_uri": "https://localhost:8080/",
          "height": 302
        }
      },
      "source": [
        "aggr.plot(kind='bar', figsize=(15,4))\n",
        "plt.xlabel('Mode')\n",
        "plt.ylabel('Days')\n",
        "plt.show()"
      ],
      "execution_count": 20,
      "outputs": [
        {
          "output_type": "display_data",
          "data": {
            "image/png": "[encoded data removed]",
            "text/plain": [
              "<Figure size 1080x288 with 1 Axes>"
            ]
          },
          "metadata": {
            "tags": [],
            "needs_background": "light"
          }
        }
      ]
    },
    {
      "cell_type": "markdown",
      "metadata": {
        "id": "-mHEMGhj9cWJ"
      },
      "source": [
        "####**Observation - Based on the analysis**\n",
        "#### Yes, visitors tend to stay more if traveled by Air"
      ]
    },
    {
      "cell_type": "markdown",
      "metadata": {
        "id": "3ybwGEas9cWJ"
      },
      "source": [
        "###**Hypothesis 3**\n",
        "\n",
        "##### Which visitors from market tend to stay longer?"
      ]
    },
    {
      "cell_type": "code",
      "metadata": {
        "id": "JcUPuIWT9cWJ",
        "outputId": "67c71b5a-3003-4b5a-bc52-d3aecb95f711",
        "colab": {
          "base_uri": "https://localhost:8080/"
        }
      },
      "source": [
        "dframe['total'] = 0\n",
        "df3=dframe.groupby('market')['total'].count()\n",
        "print(\"\",df3)\n",
        "dframe = dframe.drop(columns=\"total\")"
      ],
      "execution_count": 21,
      "outputs": [
        {
          "output_type": "stream",
          "text": [
            " market\n",
            "Argentina                628\n",
            "Australia               1871\n",
            "Austria                  828\n",
            "Bahrain                  187\n",
            "Belgium                 1432\n",
            "                        ... \n",
            "Taiwan                   518\n",
            "Thailand                 646\n",
            "Turkey                   815\n",
            "USA                     2409\n",
            "United Arab Emirates    1064\n",
            "Name: total, Length: 63, dtype: int64\n"
          ],
          "name": "stdout"
        }
      ]
    },
    {
      "cell_type": "code",
      "metadata": {
        "id": "05qQfWzn9cWK",
        "outputId": "4ba424ac-c45d-4713-dc74-0b0daf2a5088",
        "colab": {
          "base_uri": "https://localhost:8080/"
        }
      },
      "source": [
        "temp1 = dframe[['market','visits','spend','nights']]\n",
        "aggr1 = temp1.groupby(['market']).agg(np.mean)\n",
        "print(aggr1)"
      ],
      "execution_count": 22,
      "outputs": [
        {
          "output_type": "stream",
          "text": [
            "                         visits      spend     nights\n",
            "market                                               \n",
            "Argentina              1.774835   1.137744  13.203542\n",
            "Australia              5.421521   3.780389  40.779817\n",
            "Austria                3.142596   1.431670  14.404348\n",
            "Bahrain                0.861121   1.976108   7.810733\n",
            "Belgium                5.058878   1.652286  15.366032\n",
            "...                         ...        ...        ...\n",
            "Taiwan                 1.028991   1.020104   8.954214\n",
            "Thailand               0.989615   0.954863   9.437092\n",
            "Turkey                 1.772498   1.588549  14.872508\n",
            "USA                   15.940511  11.652139  90.815961\n",
            "United Arab Emirates   2.081987   3.568981  17.982322\n",
            "\n",
            "[63 rows x 3 columns]\n"
          ],
          "name": "stdout"
        }
      ]
    },
    {
      "cell_type": "code",
      "metadata": {
        "id": "hBJ4UWuf9cWL",
        "outputId": "4866c045-e8a8-4193-9691-2397df68145c",
        "colab": {
          "base_uri": "https://localhost:8080/"
        }
      },
      "source": [
        "a = aggr1[aggr1.visits==aggr1.visits.max()]\n",
        "print(\"Maximum number of visit :\\n \",a)\n",
        "print(\"-\"*40)\n",
        "b = aggr1[aggr1.spend==aggr1.spend.max()]\n",
        "print(\"\\nMaximum number of spend :\\n \",b)\n",
        "print(\"-\"*40)\n",
        "c = aggr1[aggr1.nights==aggr1.nights.max()]\n",
        "print(\"\\nMaximum number of nights : \\n\",c)"
      ],
      "execution_count": 23,
      "outputs": [
        {
          "output_type": "stream",
          "text": [
            "Maximum number of visit :\n",
            "             visits      spend     nights\n",
            "market                                 \n",
            "USA     15.940511  11.652139  90.815961\n",
            "----------------------------------------\n",
            "\n",
            "Maximum number of spend :\n",
            "             visits      spend     nights\n",
            "market                                 \n",
            "USA     15.940511  11.652139  90.815961\n",
            "----------------------------------------\n",
            "\n",
            "Maximum number of nights : \n",
            "            visits      spend     nights\n",
            "market                                 \n",
            "USA     15.940511  11.652139  90.815961\n"
          ],
          "name": "stdout"
        }
      ]
    },
    {
      "cell_type": "code",
      "metadata": {
        "id": "bWakN5Gy9cWM",
        "outputId": "dd1b2c40-9f74-4d34-fcf1-fad201180440",
        "colab": {
          "base_uri": "https://localhost:8080/",
          "height": 424
        }
      },
      "source": [
        "aggr1.plot(kind='bar', figsize=(15,4))\n",
        "plt.xlabel('Market')\n",
        "plt.ylabel('Days')\n",
        "plt.show()"
      ],
      "execution_count": 24,
      "outputs": [
        {
          "output_type": "display_data",
          "data": {
            "image/png": "[encoded data removed]",
            "text/plain": [
              "<Figure size 1080x288 with 1 Axes>"
            ]
          },
          "metadata": {
            "tags": [],
            "needs_background": "light"
          }
        }
      ]
    },
    {
      "cell_type": "markdown",
      "metadata": {
        "id": "1YKe6eWe9cWN"
      },
      "source": [
        "####**Obeservation - Based on the analysis**\n",
        "#### Visitor from USA market tend to stay longer than others."
      ]
    },
    {
      "cell_type": "markdown",
      "metadata": {
        "id": "l3Gk1_zx9cWN"
      },
      "source": [
        "###**Hypothesis 4**\n",
        "\n",
        "##### Why do visitors mostly travel to London ? "
      ]
    },
    {
      "cell_type": "code",
      "metadata": {
        "id": "f3tCD_3q9cWO",
        "outputId": "84986ce0-efa6-4957-ab41-5bdb71b186c2",
        "colab": {
          "base_uri": "https://localhost:8080/"
        }
      },
      "source": [
        "dframe['total'] = 0\n",
        "df4=dframe.groupby('purpose')['total'].count()\n",
        "print(\"\",df4)\n",
        "dframe = dframe.drop(columns=\"total\")"
      ],
      "execution_count": 25,
      "outputs": [
        {
          "output_type": "stream",
          "text": [
            " purpose\n",
            "Business         13554\n",
            "Holiday          18847\n",
            "Miscellaneous     8156\n",
            "Study             2517\n",
            "VFR              15902\n",
            "Name: total, dtype: int64\n"
          ],
          "name": "stdout"
        }
      ]
    },
    {
      "cell_type": "code",
      "metadata": {
        "id": "53RLVgvu9cWO",
        "outputId": "6d573a65-ede9-4bf2-b9c3-c57d4583ec59",
        "colab": {
          "base_uri": "https://localhost:8080/",
          "height": 472
        }
      },
      "source": [
        "labels = dframe['purpose'].value_counts().index\n",
        "values = dframe['purpose'].value_counts().values\n",
        "explode = (0,0,0.8,0.8)\n",
        "fig1, ax1 = plt.subplots(figsize=(8, 8))\n",
        "ax1.pie(values, labels=labels, autopct='%1.1f%%',\n",
        "        #shadow=True,\n",
        "        startangle=90)\n",
        "ax1.axis('equal')  # Equal aspect ratio ensures that pie is drawn as a circle.\n",
        "\n",
        "plt.show()"
      ],
      "execution_count": 26,
      "outputs": [
        {
          "output_type": "display_data",
          "data": {
            "image/png": "[encoded data removed]",
            "text/plain": [
              "<Figure size 576x576 with 1 Axes>"
            ]
          },
          "metadata": {
            "tags": []
          }
        }
      ]
    },
    {
      "cell_type": "markdown",
      "metadata": {
        "id": "pD5FCTGJ9cWP"
      },
      "source": [
        "####**Obeservation - Based on the analysis**\n",
        "#### Visitors mostly travel to London for Holiday."
      ]
    },
    {
      "cell_type": "markdown",
      "metadata": {
        "id": "MyHzHyeA9cWQ"
      },
      "source": [
        "###**Hypothesis 5**\n",
        "\n",
        "##### In which quater visitors tend to stay longer?"
      ]
    },
    {
      "cell_type": "code",
      "metadata": {
        "id": "c12aDDo69cWQ",
        "outputId": "32798c7c-6799-4924-f593-3fc6e0e95515",
        "colab": {
          "base_uri": "https://localhost:8080/"
        }
      },
      "source": [
        "dframe['total'] = 0\n",
        "df5=dframe.groupby('quarter')['total'].count()\n",
        "print(\"\",df5)\n",
        "dframe = dframe.drop(columns=\"total\")"
      ],
      "execution_count": 27,
      "outputs": [
        {
          "output_type": "stream",
          "text": [
            " quarter\n",
            "Q1    14030\n",
            "Q2    15260\n",
            "Q3    15909\n",
            "Q4    13777\n",
            "Name: total, dtype: int64\n"
          ],
          "name": "stdout"
        }
      ]
    },
    {
      "cell_type": "code",
      "metadata": {
        "id": "yQpT_On79cWQ",
        "outputId": "d1195621-01db-4613-a987-3392e71a13ef",
        "colab": {
          "base_uri": "https://localhost:8080/"
        }
      },
      "source": [
        "temp2 = dframe[['quarter','spend','nights']]\n",
        "aggr2 = temp2.groupby(['quarter']).agg(np.mean)\n",
        "print(aggr2)"
      ],
      "execution_count": 28,
      "outputs": [
        {
          "output_type": "stream",
          "text": [
            "            spend     nights\n",
            "quarter                     \n",
            "Q1       2.400923  24.364715\n",
            "Q2       2.811677  27.687178\n",
            "Q3       2.963950  33.297466\n",
            "Q4       2.946137  27.996609\n"
          ],
          "name": "stdout"
        }
      ]
    },
    {
      "cell_type": "code",
      "metadata": {
        "id": "zZQaUuN09cWR",
        "outputId": "7ee1f4cf-177a-4921-a1f2-3bad45508d72",
        "colab": {
          "base_uri": "https://localhost:8080/",
          "height": 466
        }
      },
      "source": [
        "labels = temp2['quarter'].value_counts().index\n",
        "values = temp2['quarter'].value_counts().values\n",
        "explode = (0,0,0.8,0.8)\n",
        "fig1, ax1 = plt.subplots(figsize=(8, 8))\n",
        "ax1.pie(values, labels=labels, autopct='%1.1f%%',\n",
        "        #shadow=True,\n",
        "        startangle=90)\n",
        "ax1.axis('equal')  # Equal aspect ratio ensures that pie is drawn as a circle.\n",
        "\n",
        "plt.show()"
      ],
      "execution_count": 29,
      "outputs": [
        {
          "output_type": "display_data",
          "data": {
            "image/png": "[encoded data removed]",
            "text/plain": [
              "<Figure size 576x576 with 1 Axes>"
            ]
          },
          "metadata": {
            "tags": []
          }
        }
      ]
    },
    {
      "cell_type": "markdown",
      "metadata": {
        "id": "XW2wkdLm9cWS"
      },
      "source": [
        "####**Observation - Based on the analysis**\n",
        "#### Visitors tend to stay longer in 3rd quarter(i.e Q3)."
      ]
    },
    {
      "cell_type": "markdown",
      "metadata": {
        "id": "QkTVoiT89cWT"
      },
      "source": [
        "###**Hypothesis 6**\n",
        "\n",
        "##### In which year maximum visitors visited London?"
      ]
    },
    {
      "cell_type": "code",
      "metadata": {
        "id": "AL8SfOCS9cWT",
        "outputId": "5002711b-eaf7-447e-af57-f233414cccf8",
        "colab": {
          "base_uri": "https://localhost:8080/"
        }
      },
      "source": [
        "dframe['total'] = 0\n",
        "df6=dframe.groupby('year')['total'].count()\n",
        "print(\"\",df6)\n",
        "dframe = dframe.drop(columns=\"total\")"
      ],
      "execution_count": 30,
      "outputs": [
        {
          "output_type": "stream",
          "text": [
            " year\n",
            "2002    3397\n",
            "2003    3240\n",
            "2004    3521\n",
            "2005    3494\n",
            "2006    3471\n",
            "2007    3290\n",
            "2008    3094\n",
            "2009    3411\n",
            "2010    3467\n",
            "2011    3480\n",
            "2012    3542\n",
            "2013    3572\n",
            "2014    3474\n",
            "2015    3479\n",
            "2016    3402\n",
            "2017    3293\n",
            "2018    2958\n",
            "2019    1391\n",
            "Name: total, dtype: int64\n"
          ],
          "name": "stdout"
        }
      ]
    },
    {
      "cell_type": "code",
      "metadata": {
        "id": "UWS8JNaX9cWU",
        "outputId": "895d8411-3b11-42df-e772-c2eeb439ff35",
        "colab": {
          "base_uri": "https://localhost:8080/"
        }
      },
      "source": [
        "temp3 = dframe[['year','visits']]\n",
        "aggr3 = temp3.groupby(['year']).agg(np.sum)\n",
        "print(aggr3)"
      ],
      "execution_count": 31,
      "outputs": [
        {
          "output_type": "stream",
          "text": [
            "            visits\n",
            "year              \n",
            "2002  11603.382079\n",
            "2003  11695.750442\n",
            "2004  13389.330411\n",
            "2005  13892.568979\n",
            "2006  15592.646141\n",
            "2007  15339.771490\n",
            "2008  14752.993692\n",
            "2009  14211.297986\n",
            "2010  14705.541338\n",
            "2011  15289.492905\n",
            "2012  15460.864247\n",
            "2013  16810.758222\n",
            "2014  17404.215650\n",
            "2015  18581.145357\n",
            "2016  19059.545898\n",
            "2017  19827.815821\n",
            "2018  19047.412861\n",
            "2019   9289.384232\n"
          ],
          "name": "stdout"
        }
      ]
    },
    {
      "cell_type": "code",
      "metadata": {
        "id": "gQ_8dk9T9cWV",
        "outputId": "d80a74cf-338e-4bc7-d3b1-78058c5b5fd2",
        "colab": {
          "base_uri": "https://localhost:8080/",
          "height": 295
        }
      },
      "source": [
        "aggr3.plot(kind='bar', color = 'blue',figsize=(15,4))\n",
        "plt.xlabel('Years')\n",
        "plt.ylabel('Days')\n",
        "plt.show()"
      ],
      "execution_count": 39,
      "outputs": [
        {
          "output_type": "display_data",
          "data": {
            "image/png": "[encoded data removed]",
            "text/plain": [
              "<Figure size 1080x288 with 1 Axes>"
            ]
          },
          "metadata": {
            "tags": [],
            "needs_background": "light"
          }
        }
      ]
    },
    {
      "cell_type": "markdown",
      "metadata": {
        "id": "VOJSs5fd9cWV"
      },
      "source": [
        "####**Observation - Based on analysis**\n",
        "#### In the year 2017 maximum visitors visited London."
      ]
    },
    {
      "cell_type": "markdown",
      "metadata": {
        "id": "hZ6p599R9cWW"
      },
      "source": [
        "###**Hypothesis 7**\n",
        "\n",
        "##### In which year maximum visitors stayed in London?"
      ]
    },
    {
      "cell_type": "code",
      "metadata": {
        "id": "hABNx_1n9cWW",
        "outputId": "2af42e84-e70e-41ed-e674-71059c1d71e0",
        "colab": {
          "base_uri": "https://localhost:8080/"
        }
      },
      "source": [
        "temp4 = dframe[['year','spend']]\n",
        "aggr4 = temp4.groupby(['year']).agg(np.sum)\n",
        "print(aggr4)"
      ],
      "execution_count": 33,
      "outputs": [
        {
          "output_type": "stream",
          "text": [
            "             spend\n",
            "year              \n",
            "2002   5787.853522\n",
            "2003   5869.946135\n",
            "2004   6439.274949\n",
            "2005   6858.580913\n",
            "2006   7821.599766\n",
            "2007   8192.406637\n",
            "2008   8125.685818\n",
            "2009   8238.229751\n",
            "2010   8741.172303\n",
            "2011   9411.383696\n",
            "2012  10074.543381\n",
            "2013  11495.552884\n",
            "2014  11825.412580\n",
            "2015  11919.245403\n",
            "2016  11868.573935\n",
            "2017  13546.637408\n",
            "2018  12158.759089\n",
            "2019   5958.685036\n"
          ],
          "name": "stdout"
        }
      ]
    },
    {
      "cell_type": "code",
      "metadata": {
        "id": "OdYH-ppw9cWW",
        "outputId": "6ec77591-011c-4965-dc95-bd392e5be175",
        "colab": {
          "base_uri": "https://localhost:8080/",
          "height": 295
        }
      },
      "source": [
        "aggr4.plot(kind='bar', color = 'green', figsize=(15,4))\n",
        "plt.xlabel('Years')\n",
        "plt.ylabel('Nights')\n",
        "plt.show()"
      ],
      "execution_count": 40,
      "outputs": [
        {
          "output_type": "display_data",
          "data": {
            "image/png": "[encoded data removed]",
            "text/plain": [
              "<Figure size 1080x288 with 1 Axes>"
            ]
          },
          "metadata": {
            "tags": [],
            "needs_background": "light"
          }
        }
      ]
    },
    {
      "cell_type": "markdown",
      "metadata": {
        "id": "L6J0zjm09cWX"
      },
      "source": [
        "####**Observation - Based on the analysis**\n",
        "#### In the year 2017 maximum visitors stayed in London."
      ]
    }
  ]
}